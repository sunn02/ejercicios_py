{
 "cells": [
  {
   "cell_type": "code",
   "execution_count": null,
   "metadata": {},
   "outputs": [],
   "source": [
    "for i in range(61):\n",
    "    print(i)"
   ]
  },
  {
   "cell_type": "code",
   "execution_count": 17,
   "metadata": {},
   "outputs": [
    {
     "name": "stdout",
     "output_type": "stream",
     "text": [
      "2\n",
      "4\n",
      "6\n",
      "8\n",
      "10\n"
     ]
    }
   ],
   "source": [
    "for i in range(2,11):\n",
    "    if i % 2 == 0:\n",
    "        print(i)"
   ]
  },
  {
   "cell_type": "code",
   "execution_count": null,
   "metadata": {},
   "outputs": [],
   "source": [
    "#Imprimir en forma decreciente 50 a 0\n",
    "n = 50\n",
    "\n",
    "while n > 0:\n",
    "    print(n)\n",
    "    n -= 1"
   ]
  },
  {
   "cell_type": "code",
   "execution_count": 21,
   "metadata": {},
   "outputs": [
    {
     "name": "stdout",
     "output_type": "stream",
     "text": [
      "20\n"
     ]
    }
   ],
   "source": [
    "#Leer una lista de N números y calcular el promedio\n",
    "\n",
    "N = int(input(\"Ingrese la cantidad de numeros:\"))\n",
    "suma  = 0 \n",
    "for i in range(N):\n",
    "    numero = int(input(\"Ingrese un numero:\"))\n",
    "    suma += numero\n",
    "promedio = suma/N\n",
    "print(f'El promedio es: {suma}')\n"
   ]
  },
  {
   "cell_type": "code",
   "execution_count": 20,
   "metadata": {},
   "outputs": [
    {
     "name": "stdout",
     "output_type": "stream",
     "text": [
      "El promedio es: 255\n",
      "El mayor numero es: 98\n"
     ]
    }
   ],
   "source": [
    "# Leer una lista de N números e imprimir el mayor número ingresado y\n",
    "# calcular el promedio.\n",
    "N = int(input(\"Ingrese la cantidad de numeros:\"))\n",
    "suma  = 0\n",
    "mayor = 0\n",
    "for i in range(N):\n",
    "    numero = int(input(\"Ingrese un numero:\"))\n",
    "    suma += numero\n",
    "    if numero > mayor: \n",
    "        mayor = numero\n",
    "promedio = suma/N\n",
    "print(f'El promedio es: {suma}')\n",
    "print(f'El mayor numero es: {mayor}')"
   ]
  },
  {
   "cell_type": "code",
   "execution_count": 21,
   "metadata": {},
   "outputs": [
    {
     "name": "stdout",
     "output_type": "stream",
     "text": [
      "El promedio es: 227\n",
      "El menor numero es: 2\n"
     ]
    }
   ],
   "source": [
    "# Leer una lista de N números e imprimir el menor número ingresado y\n",
    "# calcular el promedio.\n",
    "N = int(input(\"Ingrese la cantidad de numeros:\"))\n",
    "\n",
    "if N >0:\n",
    "    suma = 0\n",
    "    menor = int(input('Ingrese un numero'))\n",
    "    suma += menor\n",
    "    for i in range(N):\n",
    "        numero = int(input(\"Ingrese un numero:\"))\n",
    "        suma += numero\n",
    "        if numero < menor: \n",
    "            menor = numero\n",
    "promedio = suma/N\n",
    "print(f'El promedio es: {suma}')\n",
    "print(f'El menor numero es: {menor}')"
   ]
  },
  {
   "cell_type": "code",
   "execution_count": 22,
   "metadata": {},
   "outputs": [
    {
     "name": "stdout",
     "output_type": "stream",
     "text": [
      "El promedio mayor es el de pares \n"
     ]
    }
   ],
   "source": [
    "# Elabore un programa que lea 50 números y calcule el promedio de los\n",
    "# números impares y el promedio de los números pares. Imprimir cuál de los dos\n",
    "# grupos tiene el mayor promedio\n",
    "\n",
    "suma_par = 0\n",
    "suma_impar = 0\n",
    "for i in range(6):\n",
    "    numero = int(input(\"Ingrese numero\"))\n",
    "    \n",
    "    if numero % 2 == 0:\n",
    "        numero_par = numero\n",
    "        suma_par += numero_par \n",
    "    else: \n",
    "        numero_impar = numero\n",
    "        suma_impar += numero_impar\n",
    "        \n",
    "if suma_par > suma_impar:\n",
    "    print(\"El promedio mayor es el de pares \")\n",
    "else:\n",
    "    print(\"El promedio mayor es el de los impares\")"
   ]
  },
  {
   "cell_type": "code",
   "execution_count": 41,
   "metadata": {},
   "outputs": [
    {
     "name": "stdout",
     "output_type": "stream",
     "text": [
      "3\n",
      "6\n"
     ]
    }
   ],
   "source": [
    "# Leer un número positivo N e imprimir los múltiplos de 3 desde 3 hasta N.\n",
    "# Si el usuario ingresa un número menor o igual a cero, imprimir un mensaje\n",
    "# notificando que el número ingresado debe ser positivo.\n",
    "\n",
    "n = int(input(\"Ingrese un numero positivo\"))\n",
    "\n",
    "if n <= 0:\n",
    "    print(\"El numero debe ser positivo\")\n",
    "else:\n",
    "    for i in range(3, n + 1, 3):\n",
    "        print(i)"
   ]
  },
  {
   "cell_type": "code",
   "execution_count": null,
   "metadata": {},
   "outputs": [],
   "source": [
    "for i in range (10,100,10):\n",
    "    print (i)\n",
    "    \n",
    "# #Los parámetros que puede recibir son:\n",
    "# ● El inicio (opcional, por defecto es 0)\n",
    "# ● El fin (obligatorio)\n",
    "# ● El incremento (opcional, por defecto es 1)\n",
    "for i in range (5,0,-1):\n",
    "    print (i)"
   ]
  },
  {
   "cell_type": "code",
   "execution_count": 49,
   "metadata": {},
   "outputs": [
    {
     "name": "stdout",
     "output_type": "stream",
     "text": [
      "El promedio es: 22.0\n",
      "El mayor número es: 65\n",
      "El menor número es: 4\n"
     ]
    }
   ],
   "source": [
    "# Leer una lista de N números e imprimir el mayor, el menor y calcular el\n",
    "# promedio de números ingresados.\n",
    "N = int(input(\"Ingrese la cantidad de números: \"))\n",
    "suma = 0\n",
    "\n",
    "# Inicializamos mayor y menor con el primer número ingresado\n",
    "numero = int(input(\"Ingrese un número: \"))\n",
    "suma += numero\n",
    "mayor = numero\n",
    "menor = numero\n",
    "\n",
    "# Variable para controlar el ciclo\n",
    "contador = 1\n",
    "\n",
    "while contador < N:\n",
    "    numero = int(input(\"Ingrese un número: \"))\n",
    "    suma += numero\n",
    "    if numero > mayor:\n",
    "        mayor = numero\n",
    "    if numero < menor:\n",
    "        menor = numero\n",
    "    contador += 1\n",
    "\n",
    "promedio = suma / N\n",
    "print(f'El promedio es: {promedio}')\n",
    "print(f'El mayor número es: {mayor}')\n",
    "print(f'El menor número es: {menor}')\n"
   ]
  },
  {
   "cell_type": "code",
   "execution_count": 24,
   "metadata": {},
   "outputs": [
    {
     "name": "stdout",
     "output_type": "stream",
     "text": [
      "CI del cliente: 24342, Monto total: 12000\n",
      "CI del cliente: 32042, Monto total: 20000\n"
     ]
    }
   ],
   "source": [
    "# 0. Elabore un programa que permita leer el número de cédula y nombre de\n",
    "# un cliente. El programa debe solicitar además los productos que dicho cliente\n",
    "# desea comprar permitiendo ingresar: el nombre, la cantidad y el precio unitario de\n",
    "# los productos.\n",
    "# El proceso termina cuando el usuario ingresa un asterisco en el nombre del\n",
    "# producto. Al finalizar el usuario debe visualizar en pantalla el número de cédula,\n",
    "# el nombre y el monto total que debe pagar el cliente.\n",
    "# Desafío: Modificar el programa de manera a que permita realizar el mismo\n",
    "# proceso para varios clientes. El proceso debe terminar cuando el usuario ingresa\n",
    "# 0 en la cédula.\n",
    "CI = \"\"\n",
    "while CI != \"0\":\n",
    "    CI = input(\"Ingrese su CI: \")\n",
    "    if CI != \"0\":\n",
    "        nombre = input(\"Ingrese su nombre: \")\n",
    "        nombre_producto = \"\"\n",
    "        Total_acumulado = 0 \n",
    "\n",
    "        while nombre_producto != \"*\":\n",
    "            nombre_producto = input(\"Ingrese producto:\")\n",
    "            if nombre_producto != \"*\":\n",
    "                cantidad_producto = int(input(\"Ingrese cantidad:\"))\n",
    "                precio_unitario = int(input(\"Ingrese precio unitario: \"))\n",
    "            \n",
    "                Total_acumulado += cantidad_producto * precio_unitario\n",
    "    \n",
    "        print(f'CI del cliente: {CI}, Monto total: {Total_acumulado}')\n",
    " \n"
   ]
  },
  {
   "cell_type": "code",
   "execution_count": 16,
   "metadata": {},
   "outputs": [
    {
     "name": "stdout",
     "output_type": "stream",
     "text": [
      "Cantidad de llamadas por departamento: Compras: 1, Administracion: 0,Contabilidad: 2\n",
      "El departamento de Contabilidad tiene la mayor cantidad de llamadas\n",
      "El departamento de Administracion tiene la menor cantidad de llamadas\n",
      "Promedio de llamadas por mes: \n",
      " Enero: 800.0, Febrero: 600.0, Marzo: 700.0\n"
     ]
    }
   ],
   "source": [
    "# Se tienen los datos de los registros de llamadas telefónicas de una empresa de todo el año con\n",
    "# el siguiente formato: número telefónico origen, número telefónico destino, código de\n",
    "# departamento, día de llamada, mes de llamada, hora de llamada (formato hh:mm) y duración\n",
    "# (en segundos).\n",
    "\n",
    "# El programa debe leer los datos de entrada, calcular e imprimir lo siguiente:\n",
    "# 1. Cantidad de llamadas por departamento\n",
    "# 2. Departamentos con mayor y menor cantidad de llamadas\n",
    "# 3. Promedio de duración de llamadas por mes en segundos\n",
    "# Duraciones/cantidad de llamadas por mes\n",
    "\n",
    "llamadas_compras = 0\n",
    "llamadas_admin = 0\n",
    "llamadas_contabilidad = 0\n",
    "llamadas_enero = 0\n",
    "duracion_enero  = 0\n",
    "llamadas_febrero = 0\n",
    "duracion_febrero  = 0\n",
    "llamadas_marzo = 0\n",
    "duracion_marzo  = 0\n",
    "numero_telefónico_origen = 0\n",
    "\n",
    "while numero_telefónico_origen > -1:\n",
    "    numero_telefónico_origen = int(input(\"Número telefónico origen (ingrese '-1' para terminar): \"))\n",
    "    \n",
    "    if numero_telefónico_origen != -1:\n",
    "        numero_telefónico_destino = int(input(\"Número telefónico destino: \"))\n",
    "        codigo_departamento = input(\"Código de departamento (Compras, Administracion, Contabilidad): \")\n",
    "        # dia_llamada = input(\"Día de llamada: \")\n",
    "        mes = input(\"Mes de llamada: \")\n",
    "        # hora_llamada = input(\"Hora de llamada: \")\n",
    "        duracion = int(input(\"Duración de llamada: \"))\n",
    "\n",
    "        if codigo_departamento == \"Compras\":\n",
    "            llamadas_compras += 1\n",
    "        elif codigo_departamento == \"Administracion\":\n",
    "            llamadas_admin += 1\n",
    "        elif codigo_departamento == \"Contabilidad\":\n",
    "            llamadas_contabilidad += 1\n",
    "        else:\n",
    "            print(\"Código de departamento no reconocido\")\n",
    "\n",
    "        if mes == \"Enero\":\n",
    "            llamadas_enero += 1\n",
    "            duracion_enero += duracion\n",
    "        elif mes == \"Febrero\":\n",
    "            llamadas_febrero += 1\n",
    "            duracion_febrero += duracion\n",
    "        elif mes == \"Marzo\":\n",
    "            llamadas_marzo += 1\n",
    "            duracion_marzo += duracion\n",
    "\n",
    "\n",
    "print(f\"Cantidad de llamadas por departamento: Compras: {llamadas_compras}, Administracion: {llamadas_admin},Contabilidad: {llamadas_contabilidad}\")\n",
    "\n",
    "if llamadas_admin > llamadas_compras and llamadas_admin > llamadas_contabilidad:\n",
    "    print(\"El departamento de Administracion tiene la mayor cantidad de llamadas\")\n",
    "elif llamadas_compras > llamadas_admin and llamadas_compras > llamadas_contabilidad:\n",
    "    print(\"El departamento de Compras tiene la mayor cantidad de llamadas\")\n",
    "else:\n",
    "    print(\"El departamento de Contabilidad tiene la mayor cantidad de llamadas\")\n",
    "\n",
    "\n",
    "if llamadas_admin < llamadas_compras and llamadas_admin < llamadas_contabilidad:\n",
    "    print(\"El departamento de Administracion tiene la menor cantidad de llamadas\")\n",
    "elif llamadas_compras < llamadas_admin and llamadas_compras < llamadas_contabilidad:\n",
    "    print(\"El departamento de Compras tiene la menor cantidad de llamadas\")\n",
    "else:\n",
    "    print(\"El departamento de Contabilidad tiene la menor cantidad de llamadas\")\n",
    "\n",
    "\n",
    "promedio_enero = duracion_enero/llamadas_enero\n",
    "promedio_febrero = duracion_febrero/llamadas_febrero\n",
    "promedio_marzo = duracion_marzo/llamadas_marzo\n",
    "\n",
    "print(f'Promedio de llamadas por mes: \\n Enero: {promedio_enero}, Febrero: {promedio_febrero}, Marzo: {promedio_marzo}')"
   ]
  },
  {
   "cell_type": "code",
   "execution_count": null,
   "metadata": {},
   "outputs": [],
   "source": []
  }
 ],
 "metadata": {
  "kernelspec": {
   "display_name": "Python 3",
   "language": "python",
   "name": "python3"
  },
  "language_info": {
   "codemirror_mode": {
    "name": "ipython",
    "version": 3
   },
   "file_extension": ".py",
   "mimetype": "text/x-python",
   "name": "python",
   "nbconvert_exporter": "python",
   "pygments_lexer": "ipython3",
   "version": "3.11.6"
  }
 },
 "nbformat": 4,
 "nbformat_minor": 2
}
